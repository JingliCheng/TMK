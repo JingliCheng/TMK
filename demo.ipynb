{
 "cells": [
  {
   "cell_type": "code",
   "execution_count": 1,
   "metadata": {},
   "outputs": [],
   "source": [
    "%load_ext autoreload\n",
    "%autoreload 2"
   ]
  },
  {
   "cell_type": "code",
   "execution_count": 2,
   "metadata": {},
   "outputs": [],
   "source": [
    "import argparse\n",
    "from pathlib import Path\n",
    "\n",
    "from tmk.set_config import Config\n",
    "from tmk.utils import setup_directories, scrape_subreddits, rank_and_report\n",
    "from tmk.processor import process_raw_data\n"
   ]
  },
  {
   "cell_type": "code",
   "execution_count": 3,
   "metadata": {},
   "outputs": [],
   "source": [
    "# Define the config path relative to the project root\n",
    "config_path = Path('config/default_config.yaml').absolute()\n",
    "\n",
    "# Initialize config\n",
    "config = Config(str(config_path))"
   ]
  },
  {
   "cell_type": "code",
   "execution_count": 4,
   "metadata": {},
   "outputs": [],
   "source": [
    "# Setup directories\n",
    "setup_directories(config)"
   ]
  },
  {
   "cell_type": "code",
   "execution_count": 5,
   "metadata": {},
   "outputs": [
    {
     "name": "stdout",
     "output_type": "stream",
     "text": [
      "\n",
      "Scraping r/ChronicPain...\n",
      "Saved 2 posts to raw_data/ChronicPain_20241103_025223.json\n",
      "\n",
      "Scraping r/clinical_trials...\n",
      "Saved 2 posts to raw_data/clinical_trials_20241103_025223.json\n"
     ]
    }
   ],
   "source": [
    "# Step 1: Scrape data\n",
    "scrape_subreddits(config)"
   ]
  },
  {
   "cell_type": "code",
   "execution_count": null,
   "metadata": {},
   "outputs": [],
   "source": [
    "process_raw_data(\n",
    "    raw_data_dir=config.directories['raw_data'],\n",
    "    processed_dir=config.directories['processed_data'],\n",
    "    db_path=f\"{config.directories['data']}/users.pkl\",\n",
    "    config=config\n",
    ")"
   ]
  },
  {
   "cell_type": "code",
   "execution_count": 4,
   "metadata": {},
   "outputs": [
    {
     "name": "stdout",
     "output_type": "stream",
     "text": [
      "\n",
      "Generating report for money_motivated users...\n",
      "Saved top 10 money_motivated users to data/money_motivated_report_20241103_023958.csv\n",
      "\n",
      "Generating report for treatment_seeking users...\n",
      "Saved top 10 treatment_seeking users to data/treatment_seeking_report_20241103_023958.csv\n",
      "\n",
      "Processing completed successfully!\n"
     ]
    }
   ],
   "source": [
    "# Step 3: Generate ranking reports(This can take a while)\n",
    "rank_and_report(config)\n",
    "\n",
    "print(\"\\nProcessing completed successfully!\")\n",
    "\n"
   ]
  },
  {
   "cell_type": "markdown",
   "metadata": {},
   "source": []
  }
 ],
 "metadata": {
  "kernelspec": {
   "display_name": "tmk",
   "language": "python",
   "name": "python3"
  },
  "language_info": {
   "codemirror_mode": {
    "name": "ipython",
    "version": 3
   },
   "file_extension": ".py",
   "mimetype": "text/x-python",
   "name": "python",
   "nbconvert_exporter": "python",
   "pygments_lexer": "ipython3",
   "version": "3.11.10"
  }
 },
 "nbformat": 4,
 "nbformat_minor": 2
}
